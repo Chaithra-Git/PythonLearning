{
 "cells": [
  {
   "cell_type": "markdown",
   "id": "627bc77b",
   "metadata": {},
   "source": [
    "<h2 align=\"center\" style=\"color:blue\">Codebasics Python Course: Exercise - APIs in Python</h2>"
   ]
  },
  {
   "cell_type": "markdown",
   "id": "9af20118",
   "metadata": {},
   "source": [
    "The Open Brewery DB API offers detailed data on various breweries across the United States. \n",
    "\n",
    "--\n",
    "\n",
    "### Task 1: Fetch Brewery Data for Non-alcoholic Drink manufacturer - US client\n",
    "\n",
    "**Scenario:**\n",
    "\n",
    "As Tony Sharma mentioned during the call, he needs details about all the breweries in a specific state.\n",
    "\n",
    "Your task is to use the Open Brewery DB API to fetch and display brewery details based on a given state, which will be helpful for his client call tomorrow.\n",
    "\n",
    "**Write a Python program that:**\n",
    "\n",
    "1. Uses the `requests` library to call the Open Brewery DB API to fetch brewery data based on a given state.\n",
    "2. Parses the JSON response.\n",
    "3. Extracts and displays the name, type, and location (city) of each brewery.\n",
    "4. Handles errors gracefully (e.g., network issues or invalid API requests).\n",
    "\n",
    "Example URL for Texas Breweries: `https://api.openbrewerydb.org/breweries?by_state=texas`"
   ]
  },
  {
   "cell_type": "code",
   "execution_count": 23,
   "id": "fb8e0c48",
   "metadata": {},
   "outputs": [
    {
     "name": "stdout",
     "output_type": "stream",
     "text": [
      "<Response [200]>\n"
     ]
    }
   ],
   "source": [
    "# write your code here\n",
    "import requests\n",
    "state = \"New York\"\n",
    "url = f\"https://api.openbrewerydb.org/breweries?by_state={state}\"\n",
    "\n",
    "response = requests.get(url)\n"
   ]
  },
  {
   "cell_type": "code",
   "execution_count": 21,
   "id": "a4fb268f",
   "metadata": {},
   "outputs": [
    {
     "name": "stdout",
     "output_type": "stream",
     "text": [
      "[{'id': 'd81ff708-b5d2-478f-af6a-6d40f5beb9ac', 'name': '12 Gates Brewing Company', 'brewery_type': 'brewpub', 'address_1': '80 Earhart Dr Ste 20', 'address_2': None, 'address_3': None, 'city': 'Williamsville', 'state_province': 'New York', 'postal_code': '14221-7804', 'country': 'United States', 'longitude': None, 'latitude': None, 'phone': '7169066600', 'website_url': 'http://www.12gatesbrewing.com', 'state': 'New York', 'street': '80 Earhart Dr Ste 20'}, {'id': 'ee6d39c6-092f-4623-8099-5b8643f70dbe', 'name': '16 Stone Brewpub', 'brewery_type': 'brewpub', 'address_1': '9542 Main St', 'address_2': None, 'address_3': None, 'city': 'Holland Patent', 'state_province': 'New York', 'postal_code': '13354', 'country': 'United States', 'longitude': '-75.2565195', 'latitude': '43.24211175', 'phone': '3158658500', 'website_url': 'http://www.16stonebrewpub.com', 'state': 'New York', 'street': '9542 Main St'}, {'id': '4a09f017-db8f-42e1-a8ec-a0cd81c28761', 'name': \"1940's Brewing Company\", 'brewery_type': 'micro', 'address_1': '1337 Lincoln Ave Unit 1', 'address_2': None, 'address_3': None, 'city': 'Holbrook', 'state_province': 'New York', 'postal_code': '11741-2275', 'country': 'United States', 'longitude': None, 'latitude': None, 'phone': '6315334838', 'website_url': 'http://www.1940sbrewingcompany.com', 'state': 'New York', 'street': '1337 Lincoln Ave Unit 1'}, {'id': '8624d11b-8593-49a8-89b4-c46a0f111cd7', 'name': '2 Way Brewing Company', 'brewery_type': 'brewpub', 'address_1': '18 W Main St', 'address_2': None, 'address_3': None, 'city': 'Beacon', 'state_province': 'New York', 'postal_code': '12508-2512', 'country': 'United States', 'longitude': '-73.9809868', 'latitude': '41.5082102', 'phone': '8452027334', 'website_url': 'http://www.2waybrewingcompany.com', 'state': 'New York', 'street': '18 W Main St'}, {'id': '00fdce16-e1dd-4678-87f2-45550f9083e1', 'name': '212 Brewing Company', 'brewery_type': 'contract', 'address_1': '21476 Route 23', 'address_2': None, 'address_3': None, 'city': 'Davenport', 'state_province': 'New York', 'postal_code': '13750', 'country': 'United States', 'longitude': None, 'latitude': None, 'phone': '2123779050', 'website_url': None, 'state': 'New York', 'street': '21476 Route 23'}, {'id': 'dad10840-28ab-4dcf-9005-bf2cc2665b5a', 'name': '42 North Brewing Company', 'brewery_type': 'brewpub', 'address_1': '25 Pine St', 'address_2': None, 'address_3': None, 'city': 'East Aurora', 'state_province': 'New York', 'postal_code': '14052-1827', 'country': 'United States', 'longitude': '-78.607989', 'latitude': '42.769311', 'phone': '7168057500', 'website_url': 'http://www.42northbrewing.com', 'state': 'New York', 'street': '25 Pine St'}, {'id': '6f431fe7-b136-444b-84e3-3a2042903d93', 'name': '6 Degrees of Separation', 'brewery_type': 'brewpub', 'address_1': '35 Main St', 'address_2': None, 'address_3': None, 'city': 'Ossining', 'state_province': 'New York', 'postal_code': '10562-4662', 'country': 'United States', 'longitude': '-73.86768188', 'latitude': '41.15866213', 'phone': '9144325969', 'website_url': 'http://www.6degreesbp.com', 'state': 'New York', 'street': '35 Main St'}, {'id': 'a1199657-e4a9-496b-88c3-999f9e7e97e9', 'name': '7 Sins Brewery', 'brewery_type': 'micro', 'address_1': '10593 W Main Rd', 'address_2': None, 'address_3': None, 'city': 'Ripley', 'state_province': 'New York', 'postal_code': '14775-9746', 'country': 'United States', 'longitude': '-79.7497349', 'latitude': '42.24869073', 'phone': '7165812090', 'website_url': 'http://www.7sinsbrewery.com', 'state': 'New York', 'street': '10593 W Main Rd'}, {'id': '1682e94f-73ba-4035-93be-1fb28bb2cee7', 'name': '8th Ward Brewing Company', 'brewery_type': 'planning', 'address_1': None, 'address_2': None, 'address_3': None, 'city': 'Poughkeepsie', 'state_province': 'New York', 'postal_code': '12603-3401', 'country': 'United States', 'longitude': None, 'latitude': None, 'phone': None, 'website_url': None, 'state': 'New York', 'street': None}, {'id': '7918a6dd-08d0-4157-a841-01b20a9a7a4c', 'name': 'Abandon Brewing', 'brewery_type': 'micro', 'address_1': '2994 Merritt Hill Rd', 'address_2': None, 'address_3': None, 'city': 'Penn Yan', 'state_province': 'New York', 'postal_code': '14527-8938', 'country': 'United States', 'longitude': None, 'latitude': None, 'phone': '5852093276', 'website_url': 'http://www.abandonbrewing.com', 'state': 'New York', 'street': '2994 Merritt Hill Rd'}, {'id': 'a180c4e0-77cc-4088-951c-62192abd99d4', 'name': 'Adirondack Pub and Brewery', 'brewery_type': 'micro', 'address_1': '33 Canada St', 'address_2': None, 'address_3': None, 'city': 'Lake George', 'state_province': 'New York', 'postal_code': '12845-1603', 'country': 'United States', 'longitude': '-73.71407763', 'latitude': '43.41850655', 'phone': '5186680002', 'website_url': 'http://www.adkpub.com', 'state': 'New York', 'street': '33 Canada St'}, {'id': '1b7f0552-3b1a-4737-8cb4-eb8d7134d903', 'name': 'Adirondack Toboggan Company Microbrewery', 'brewery_type': 'micro', 'address_1': '202A W Main St', 'address_2': None, 'address_3': None, 'city': 'Gouverneur', 'state_province': 'New York', 'postal_code': '13642-1334', 'country': 'United States', 'longitude': '-75.47489238', 'latitude': '44.33237311', 'phone': '3157716313', 'website_url': 'http://www.adktoboggan.net', 'state': 'New York', 'street': '202A W Main St'}, {'id': '06ac0316-a30f-40c6-acb7-c08fea0c30b1', 'name': 'Akwesasne Mohawk Casino Resort', 'brewery_type': 'planning', 'address_1': None, 'address_2': None, 'address_3': None, 'city': 'Akwesasne', 'state_province': 'New York', 'postal_code': '13655-1800', 'country': 'United States', 'longitude': None, 'latitude': None, 'phone': '5183582222', 'website_url': 'http://mohawkcasino.com', 'state': 'New York', 'street': None}, {'id': 'ed3ea3ae-04d3-4356-ab96-a74514992a50', 'name': 'Alewife Brewing Company', 'brewery_type': 'brewpub', 'address_1': '514 51st Ave', 'address_2': None, 'address_3': None, 'city': 'Long Island City', 'state_province': 'New York', 'postal_code': '11101-5879', 'country': 'United States', 'longitude': '-73.95625257', 'latitude': '40.74232214', 'phone': '7189377494', 'website_url': 'http://www.alewife.beer', 'state': 'New York', 'street': '514 51st Ave'}, {'id': '810e0e7c-293a-4e3e-a557-13691d30d399', 'name': 'Alphabet City Brewing Co', 'brewery_type': 'contract', 'address_1': '96 Avenue C Frnt 4', 'address_2': None, 'address_3': None, 'city': 'New York', 'state_province': 'New York', 'postal_code': '10009-7055', 'country': 'United States', 'longitude': None, 'latitude': None, 'phone': '9143566809', 'website_url': 'http://www.acbnyc.com', 'state': 'New York', 'street': '96 Avenue C Frnt 4'}, {'id': '5fffcb8c-fbca-4633-8ef4-7bfd7dd6d473', 'name': 'Amber Lantern Brewing Company', 'brewery_type': 'brewpub', 'address_1': '44 N Main St', 'address_2': None, 'address_3': None, 'city': 'Warsaw', 'state_province': 'New York', 'postal_code': '14569-1326', 'country': 'United States', 'longitude': '-78.132363', 'latitude': '42.7408423', 'phone': '5857863559', 'website_url': 'http://www.amberlanternbrewingcompany.com', 'state': 'New York', 'street': '44 N Main St'}, {'id': '032a363c-447b-495a-bfed-814201b877c0', 'name': 'Andean Brewing', 'brewery_type': 'micro', 'address_1': '300 Corporate Dr Ste 2', 'address_2': None, 'address_3': None, 'city': 'Blauvelt', 'state_province': 'New York', 'postal_code': '10913-1162', 'country': 'United States', 'longitude': None, 'latitude': None, 'phone': '6464505852', 'website_url': None, 'state': 'New York', 'street': '300 Corporate Dr Ste 2'}, {'id': 'baec5c2d-a983-49e0-beb9-ca55879d4139', 'name': 'Anheuser-Busch Inc â\\x80\\x93 Baldwinsville', 'brewery_type': 'large', 'address_1': '2885 Belgium Rd', 'address_2': None, 'address_3': None, 'city': 'Baldwinsville', 'state_province': 'New York', 'postal_code': '13027-2706', 'country': 'United States', 'longitude': '-76.31159343', 'latitude': '43.16510925', 'phone': '3156354000', 'website_url': None, 'state': 'New York', 'street': '2885 Belgium Rd'}, {'id': 'e15991e7-755b-465a-9d39-0f850305e900', 'name': 'Apex Brewery', 'brewery_type': 'planning', 'address_1': None, 'address_2': None, 'address_3': None, 'city': 'Central Valley', 'state_province': 'New York', 'postal_code': '10917-3708', 'country': 'United States', 'longitude': None, 'latitude': None, 'phone': '8455493006', 'website_url': 'http://www.apexbeer.co', 'state': 'New York', 'street': None}, {'id': '9408064a-bc10-4e15-84d0-3ff698036d4f', 'name': 'Argyle Brewing Company', 'brewery_type': 'micro', 'address_1': '1 Main St', 'address_2': None, 'address_3': None, 'city': 'Greenwich', 'state_province': 'New York', 'postal_code': '12834-1209', 'country': 'United States', 'longitude': '-73.496758', 'latitude': '43.08767125', 'phone': '5183387405', 'website_url': 'http://www.argylebrewing.com', 'state': 'New York', 'street': '1 Main St'}, {'id': '647378c3-df63-4da2-a88d-808943dcd4f9', 'name': 'Arrowood Farms', 'brewery_type': 'micro', 'address_1': '236 Lower Whitfield Rd', 'address_2': None, 'address_3': None, 'city': 'Accord', 'state_province': 'New York', 'postal_code': '12404-5809', 'country': 'United States', 'longitude': '-74.24891742', 'latitude': '41.80666144', 'phone': '8452530389', 'website_url': 'http://www.arrowoodfarms.com', 'state': 'New York', 'street': '236 Lower Whitfield Rd'}, {'id': '8fb6c630-7647-4a16-a55a-fde63c129636', 'name': 'Artisanal Brew Works', 'brewery_type': 'micro', 'address_1': '41 Geyser Rd', 'address_2': None, 'address_3': None, 'city': 'Saratoga Springs', 'state_province': 'New York', 'postal_code': '12866-9038', 'country': 'United States', 'longitude': None, 'latitude': None, 'phone': '5185942337', 'website_url': 'http://www.artisanalbrewworks.com', 'state': 'New York', 'street': '41 Geyser Rd'}, {'id': '74f46cc4-156c-4986-b653-b5240678ff54', 'name': 'Aurora Ale & Lager', 'brewery_type': 'micro', 'address_1': '1891 State Route 90 N', 'address_2': None, 'address_3': None, 'city': 'King Ferry', 'state_province': 'New York', 'postal_code': '13081-9719', 'country': 'United States', 'longitude': None, 'latitude': None, 'phone': None, 'website_url': 'http://www.brewaurora.com', 'state': 'New York', 'street': '1891 State Route 90 N'}, {'id': '16ead71f-bbd5-4b34-b434-a3bc7849349f', 'name': 'Ausable Brewing Co', 'brewery_type': 'micro', 'address_1': '765 Mace Chasm Rd', 'address_2': None, 'address_3': None, 'city': 'Keeseville', 'state_province': 'New York', 'postal_code': '12944-2425', 'country': 'United States', 'longitude': None, 'latitude': None, 'phone': '3152443295', 'website_url': 'http://ausablebrewing.tumblr.com', 'state': 'New York', 'street': '765 Mace Chasm Rd'}, {'id': '03df12a0-f2ff-4c37-b862-e6df31123b74', 'name': 'B9 Beverages Inc', 'brewery_type': 'contract', 'address_1': '404 5th Ave # 7.055', 'address_2': None, 'address_3': None, 'city': 'New York', 'state_province': 'New York', 'postal_code': '10018-2797', 'country': 'United States', 'longitude': None, 'latitude': None, 'phone': None, 'website_url': None, 'state': 'New York', 'street': '404 5th Ave # 7.055'}, {'id': '418c8bd5-997f-47f5-8147-a8a243517634', 'name': 'Bacchus Brewing', 'brewery_type': 'micro', 'address_1': '15 Ellis Dr', 'address_2': None, 'address_3': None, 'city': 'Dryden', 'state_province': 'New York', 'postal_code': '13053-9630', 'country': 'United States', 'longitude': '-76.29904171', 'latitude': '42.49966971', 'phone': '6078448474', 'website_url': 'http://www.bacchusbrewing.com', 'state': 'New York', 'street': '15 Ellis Dr'}, {'id': '299ebba1-6bb3-4998-b4a5-e0f4fad4c443', 'name': 'Bandwagon Brewery', 'brewery_type': 'micro', 'address_1': '3582 West Ave', 'address_2': None, 'address_3': None, 'city': 'Interlaken', 'state_province': 'New York', 'postal_code': '14847', 'country': 'United States', 'longitude': '-76.7278241', 'latitude': '42.61661956', 'phone': '6072295608', 'website_url': 'http://www.bandwagonbeer.com', 'state': 'New York', 'street': '3582 West Ave'}, {'id': 'c51c96f4-d444-4e83-b332-924d7811d236', 'name': 'BarkEater Craft Brewery', 'brewery_type': 'proprietor', 'address_1': '5411 Shady Ave', 'address_2': None, 'address_3': None, 'city': 'Lowville', 'state_province': 'New York', 'postal_code': '13367-1601', 'country': 'United States', 'longitude': '-75.4867252', 'latitude': '43.7874658', 'phone': '3157758959', 'website_url': 'http://www.barkeaterbrew.com', 'state': 'New York', 'street': '5411 Shady Ave'}, {'id': 'f2b298d8-a498-41bc-9321-770e03376866', 'name': 'Barnshed Brewing', 'brewery_type': 'micro', 'address_1': '100 Lauman Ln', 'address_2': None, 'address_3': None, 'city': 'Hicksville', 'state_province': 'New York', 'postal_code': '11801-6574', 'country': 'United States', 'longitude': '-73.50094256', 'latitude': '40.74420335', 'phone': '5163766514', 'website_url': 'http://www.barnshedbrewing.com', 'state': 'New York', 'street': '100 Lauman Ln'}, {'id': '3a2f762e-be48-4caf-ba77-d9253f50182a', 'name': 'Barrage Brewing Co', 'brewery_type': 'micro', 'address_1': '32 Allen Blvd Ste E', 'address_2': None, 'address_3': None, 'city': 'Farmingdale', 'state_province': 'New York', 'postal_code': '11735-5625', 'country': 'United States', 'longitude': None, 'latitude': None, 'phone': '6313357941', 'website_url': 'http://www.barragebrewing.com', 'state': 'New York', 'street': '32 Allen Blvd Ste E'}, {'id': 'a6704545-a3ff-4e4d-a458-90979968fe1c', 'name': 'Barrier Brewing Co', 'brewery_type': 'micro', 'address_1': '3001 New St Ste A2', 'address_2': None, 'address_3': None, 'city': 'Oceanside', 'state_province': 'New York', 'postal_code': '11572-2747', 'country': 'United States', 'longitude': None, 'latitude': None, 'phone': '5165941028', 'website_url': 'http://www.barrierbrewing.com', 'state': 'New York', 'street': '3001 New St Ste A2'}, {'id': 'ee894df8-970e-4fcd-96fd-56a385f03aab', 'name': 'Battle Hill Brewing Company', 'brewery_type': 'micro', 'address_1': '4 Charles Street', 'address_2': None, 'address_3': None, 'city': 'Fort Ann', 'state_province': 'New York', 'postal_code': '12827', 'country': 'United States', 'longitude': '-73.48739346', 'latitude': '43.41676935', 'phone': '5186391033', 'website_url': 'http://www.battlehillbrewing.com', 'state': 'New York', 'street': '4 Charles Street'}, {'id': '36e42b14-6bb0-4bba-b9d4-662def2778a6', 'name': 'Beer Tree Brew Co', 'brewery_type': 'micro', 'address_1': '197 Rte 369', 'address_2': None, 'address_3': None, 'city': 'Port Crane', 'state_province': 'New York', 'postal_code': '13833', 'country': 'United States', 'longitude': None, 'latitude': None, 'phone': None, 'website_url': 'http://www.beertreebrew.com', 'state': 'New York', 'street': '197 Rte 369'}, {'id': 'd91eef0b-b1b1-40f8-9895-b92c6e865027', 'name': 'Bellport Brewing Company', 'brewery_type': 'proprietor', 'address_1': None, 'address_2': None, 'address_3': None, 'city': 'Rocky Point', 'state_province': 'New York', 'postal_code': '11778-8986', 'country': 'United States', 'longitude': None, 'latitude': None, 'phone': '6319094457', 'website_url': 'http://www.bellportbrewing.com', 'state': 'New York', 'street': None}, {'id': '6baafd1a-3faf-41f6-bce8-7f9c223b2d1c', 'name': 'Big Alice Brewing Company', 'brewery_type': 'micro', 'address_1': '808 43rd Rd', 'address_2': None, 'address_3': None, 'city': 'Long Island City', 'state_province': 'New York', 'postal_code': '11101-6820', 'country': 'United States', 'longitude': None, 'latitude': None, 'phone': '3476882337', 'website_url': 'http://www.bigalicebrewing.com', 'state': 'New York', 'street': '808 43rd Rd'}, {'id': '5db014b6-be92-4c4d-b95e-f5156550ad05', 'name': 'Big Ditch Brewing Company', 'brewery_type': 'micro', 'address_1': '55 E Huron St', 'address_2': None, 'address_3': None, 'city': 'Buffalo', 'state_province': 'New York', 'postal_code': '14203-1632', 'country': 'United States', 'longitude': '-78.8709352', 'latitude': '42.888031', 'phone': '7168545050', 'website_url': 'http://www.bigditchbrewing.com', 'state': 'New York', 'street': '55 E Huron St'}, {'id': 'dcc9cdb6-415f-4783-aa42-c5cfb7664dc6', 'name': 'Big Inlet Brewing', 'brewery_type': 'planning', 'address_1': None, 'address_2': None, 'address_3': None, 'city': 'Mayville', 'state_province': 'New York', 'postal_code': '14757-9730', 'country': 'United States', 'longitude': None, 'latitude': None, 'phone': '7165737564', 'website_url': 'http://www.biginletbrewing.com', 'state': 'New York', 'street': None}, {'id': 'd5e9205f-ff1f-4cd2-9eec-2844197449f1', 'name': 'Big Slide Brewery', 'brewery_type': 'brewpub', 'address_1': '5686 Cascade Road', 'address_2': None, 'address_3': None, 'city': 'Lake Placid', 'state_province': 'New York', 'postal_code': '12946', 'country': 'United States', 'longitude': '-73.96977615', 'latitude': '44.26461237', 'phone': '5185237844', 'website_url': 'http://www.bigslidebrewery.com', 'state': 'New York', 'street': '5686 Cascade Road'}, {'id': '00eddf9c-e274-4d9a-8957-457e3ea570ac', 'name': 'Big Tupper Brewing', 'brewery_type': 'brewpub', 'address_1': '12 Cliff Ave', 'address_2': None, 'address_3': None, 'city': 'Tupper Lake', 'state_province': 'New York', 'postal_code': '12986-1719', 'country': 'United States', 'longitude': '-74.46576367', 'latitude': '44.223293', 'phone': '5183596350', 'website_url': 'http://www.bigtupperbrewing.com', 'state': 'New York', 'street': '12 Cliff Ave'}, {'id': '5b64e8ae-f38a-4cf0-8d60-e3f0cf3c9572', 'name': 'Binghamton Brewing Co', 'brewery_type': 'micro', 'address_1': '15 Avenue B', 'address_2': None, 'address_3': None, 'city': 'Johnson City', 'state_province': 'New York', 'postal_code': '13790-2234', 'country': 'United States', 'longitude': '-75.95337584', 'latitude': '42.11473563', 'phone': '6072383448', 'website_url': 'http://www.bingbrew.com', 'state': 'New York', 'street': '15 Avenue B'}, {'id': 'aec527a2-0534-4252-86e0-56c621fc835d', 'name': 'Birreria @ Eataly', 'brewery_type': 'brewpub', 'address_1': '200 5th Ave Fl 14', 'address_2': None, 'address_3': None, 'city': 'New York', 'state_province': 'New York', 'postal_code': '10010-3302', 'country': 'United States', 'longitude': None, 'latitude': None, 'phone': '2125390204', 'website_url': 'http://www.eatalyny.com', 'state': 'New York', 'street': '200 5th Ave Fl 14'}, {'id': 'a0fadb5a-1b4c-4e40-9782-27f06c10a52d', 'name': 'Black Forest Brew Haus', 'brewery_type': 'brewpub', 'address_1': '2015 New Hwy', 'address_2': None, 'address_3': None, 'city': 'Farmingdale', 'state_province': 'New York', 'postal_code': '11735-1103', 'country': 'United States', 'longitude': '-73.41443291', 'latitude': '40.7550515', 'phone': '6313919500', 'website_url': 'http://www.blackforestbrewhaus.com', 'state': 'New York', 'street': '2015 New Hwy'}, {'id': '2a08f3ad-f6fc-442f-979a-2dbadd0c3c28', 'name': 'Blind Bat Brewery LLC, The', 'brewery_type': 'micro', 'address_1': '420 Harrison Dr', 'address_2': None, 'address_3': None, 'city': 'Centerport', 'state_province': 'New York', 'postal_code': '11721-1216', 'country': 'United States', 'longitude': '-73.38113106', 'latitude': '40.8959081', 'phone': '6318917909', 'website_url': 'http://www.BlindBatBrewery.com', 'state': 'New York', 'street': '420 Harrison Dr'}, {'id': '2595ff73-65f0-41ea-820c-3d7d35f453ca', 'name': 'Blue Collar Brewery, Inc.', 'brewery_type': 'brewpub', 'address_1': '40 Cottage St', 'address_2': None, 'address_3': None, 'city': 'Poughkeepsie', 'state_province': 'New York', 'postal_code': '12601-2015', 'country': 'United States', 'longitude': '-73.91831', 'latitude': '41.707234', 'phone': '8454542739', 'website_url': 'http://www.thebluecollarbrewery.com', 'state': 'New York', 'street': '40 Cottage St'}, {'id': 'aef7a703-7954-41ed-9e29-c6d6bb8a23fe', 'name': 'Blue Line Brewery', 'brewery_type': 'brewpub', 'address_1': '555 Lake Flower Ave', 'address_2': None, 'address_3': None, 'city': 'Saranac Lake', 'state_province': 'New York', 'postal_code': '12983-2465', 'country': 'United States', 'longitude': '-74.11766659', 'latitude': '44.31358605', 'phone': '5183548114', 'website_url': 'http://www.bluelinebrew.com', 'state': 'New York', 'street': '555 Lake Flower Ave'}, {'id': '448fb5bd-505b-40a0-ab84-0720ff5f281c', 'name': 'Blue Point Brewing', 'brewery_type': 'large', 'address_1': '225 West Main St', 'address_2': None, 'address_3': None, 'city': 'Patchogue', 'state_province': 'New York', 'postal_code': '11772', 'country': 'United States', 'longitude': '-73.02103705', 'latitude': '40.76644215', 'phone': None, 'website_url': None, 'state': 'New York', 'street': '225 West Main St'}, {'id': '593ee04a-4af6-4d32-a00d-f8ac6357469a', 'name': 'Blue Point Brewing Co', 'brewery_type': 'large', 'address_1': '161 River Ave', 'address_2': None, 'address_3': None, 'city': 'Patchogue', 'state_province': 'New York', 'postal_code': '11772-3304', 'country': 'United States', 'longitude': '-73.0216063', 'latitude': '40.75913445', 'phone': '6314756944', 'website_url': 'http://www.bluepointbrewing.com', 'state': 'New York', 'street': '161 River Ave'}, {'id': 'beb4abeb-3386-4ee8-9838-82ea78de6ecf', 'name': 'Bolton Landing Brewing Co.', 'brewery_type': 'micro', 'address_1': '4933 Lake Shore Dr', 'address_2': None, 'address_3': None, 'city': 'Bolton Landing', 'state_province': 'New York', 'postal_code': '12814-7757', 'country': 'United States', 'longitude': '-73.655636', 'latitude': '43.555707', 'phone': '5186442739', 'website_url': 'http://www.boltonlandingbrewing.com', 'state': 'New York', 'street': '4933 Lake Shore Dr'}, {'id': '76d91768-88ce-485a-91e2-83baf9d2f10c', 'name': 'Boots Brewing Company, Inc.', 'brewery_type': 'micro', 'address_1': '89 Public Sq', 'address_2': None, 'address_3': None, 'city': 'Watertown', 'state_province': 'New York', 'postal_code': '13601-2626', 'country': 'United States', 'longitude': '-75.90904644', 'latitude': '43.97475173', 'phone': '3157670794', 'website_url': 'http://www.bootsbrew.com', 'state': 'New York', 'street': '89 Public Sq'}, {'id': '50c38066-568b-4e12-a4cb-536073d998c0', 'name': 'Bottomless Brewing, LLC', 'brewery_type': 'brewpub', 'address_1': '3543 E Lake Rd', 'address_2': None, 'address_3': None, 'city': 'Geneva', 'state_province': 'New York', 'postal_code': '14456-9261', 'country': 'United States', 'longitude': None, 'latitude': None, 'phone': '3153254380', 'website_url': 'http://www.bottomlessbrewing.com', 'state': 'New York', 'street': '3543 E Lake Rd'}]\n"
     ]
    }
   ],
   "source": [
    "if response.status_code == 200:\n",
    "    data = response.json()\n",
    "    print(data)\n",
    "else:\n",
    "    print(\"Failes to retrieve data\")"
   ]
  },
  {
   "cell_type": "code",
   "execution_count": 19,
   "id": "ad82cf82",
   "metadata": {},
   "outputs": [
    {
     "name": "stdout",
     "output_type": "stream",
     "text": [
      "12 Gates Brewing Company brewpub New York\n",
      "16 Stone Brewpub brewpub New York\n",
      "1940's Brewing Company micro New York\n",
      "2 Way Brewing Company brewpub New York\n",
      "212 Brewing Company contract New York\n",
      "42 North Brewing Company brewpub New York\n",
      "6 Degrees of Separation brewpub New York\n",
      "7 Sins Brewery micro New York\n",
      "8th Ward Brewing Company planning New York\n",
      "Abandon Brewing micro New York\n",
      "Adirondack Pub and Brewery micro New York\n",
      "Adirondack Toboggan Company Microbrewery micro New York\n",
      "Akwesasne Mohawk Casino Resort planning New York\n",
      "Alewife Brewing Company brewpub New York\n",
      "Alphabet City Brewing Co contract New York\n",
      "Amber Lantern Brewing Company brewpub New York\n",
      "Andean Brewing micro New York\n",
      "Anheuser-Busch Inc â Baldwinsville large New York\n",
      "Apex Brewery planning New York\n",
      "Argyle Brewing Company micro New York\n",
      "Arrowood Farms micro New York\n",
      "Artisanal Brew Works micro New York\n",
      "Aurora Ale & Lager micro New York\n",
      "Ausable Brewing Co micro New York\n",
      "B9 Beverages Inc contract New York\n",
      "Bacchus Brewing micro New York\n",
      "Bandwagon Brewery micro New York\n",
      "BarkEater Craft Brewery proprietor New York\n",
      "Barnshed Brewing micro New York\n",
      "Barrage Brewing Co micro New York\n",
      "Barrier Brewing Co micro New York\n",
      "Battle Hill Brewing Company micro New York\n",
      "Beer Tree Brew Co micro New York\n",
      "Bellport Brewing Company proprietor New York\n",
      "Big Alice Brewing Company micro New York\n",
      "Big Ditch Brewing Company micro New York\n",
      "Big Inlet Brewing planning New York\n",
      "Big Slide Brewery brewpub New York\n",
      "Big Tupper Brewing brewpub New York\n",
      "Binghamton Brewing Co micro New York\n",
      "Birreria @ Eataly brewpub New York\n",
      "Black Forest Brew Haus brewpub New York\n",
      "Blind Bat Brewery LLC, The micro New York\n",
      "Blue Collar Brewery, Inc. brewpub New York\n",
      "Blue Line Brewery brewpub New York\n",
      "Blue Point Brewing large New York\n",
      "Blue Point Brewing Co large New York\n",
      "Bolton Landing Brewing Co. micro New York\n",
      "Boots Brewing Company, Inc. micro New York\n",
      "Bottomless Brewing, LLC brewpub New York\n"
     ]
    }
   ],
   "source": [
    "for brewery in data:\n",
    "    print(brewery['name'], brewery['brewery_type'], brewery['state_province'])"
   ]
  },
  {
   "cell_type": "markdown",
   "id": "d7533165",
   "metadata": {},
   "source": [
    "\n",
    "JSONPlaceholder offers a set of APIs for typical CRUD (Create, Read, Update, Delete) operations, making it an excellent resource for learning and testing HTTP requests.\n",
    "\n",
    "--\n",
    "\n",
    "### Task 2: Fetch User Data for AtliQ Client Project\n",
    "\n",
    "**Scenario:** As a quick favor, Loki shared an ad-hoc task with you. He needs help with a user profile component for an Atliq client application, using JSONPlaceholder to simulate fetching user data.\n",
    "\n",
    "**Objective:** Create a function `fetch_user_data` that uses JSONPlaceholder’s API to retrieve and format user details.\n",
    "\n",
    "**Steps:**\n",
    "\n",
    "1. Fetch user data from JSONPlaceholder.\n",
    "2. Format the data to include 'name', 'email', and 'address'.\n",
    "3. Return the data as a dictionary.\n",
    "\n",
    "**Expected Output:**\n",
    "\n",
    "```\n",
    "{\n",
    "    'name': 'Leanne Graham',\n",
    "    'email': 'Sincere@april.biz',\n",
    "    'address': 'Kulas Light, Gwenborough'\n",
    "}\n",
    "\n",
    "\n",
    "\n",
    "```"
   ]
  },
  {
   "cell_type": "code",
   "execution_count": null,
   "id": "bc84ea40",
   "metadata": {},
   "outputs": [
    {
     "data": {
      "text/plain": [
       "{'name': 'Leanne Graham',\n",
       " 'email': 'Sincere@april.biz',\n",
       " 'address': 'Kulas Light, Gwenborough'}"
      ]
     },
     "execution_count": 27,
     "metadata": {},
     "output_type": "execute_result"
    }
   ],
   "source": [
    "# write your code here\n",
    "\n",
    "def fetch_user_data(user_id):\n",
    "    url = f\"https://jsonplaceholder.typicode.com/users/{user_id}\"\n",
    "    response_userdata = requests.get(url)\n",
    "    userdata = response_userdata.json()\n",
    "\n",
    "    username= userdata['name']\n",
    "    email = userdata['email']\n",
    "    user_address = f\"{userdata['address']['street']}, {userdata['address']['city']}\"\n",
    "   \n",
    "\n",
    "    return {\n",
    "        'name': username,\n",
    "        'email': email,\n",
    "        'address': user_address\n",
    "\n",
    "    }\n",
    "\n",
    "\n",
    "user_id = 1\n",
    "user_info = fetch_user_data(user_id)\n",
    "user_info\n",
    "    \n"
   ]
  },
  {
   "cell_type": "code",
   "execution_count": null,
   "id": "d665284c-cf7f-4480-8f38-83a72fc185b2",
   "metadata": {},
   "outputs": [],
   "source": []
  }
 ],
 "metadata": {
  "kernelspec": {
   "display_name": "Python 3",
   "language": "python",
   "name": "python3"
  },
  "language_info": {
   "codemirror_mode": {
    "name": "ipython",
    "version": 3
   },
   "file_extension": ".py",
   "mimetype": "text/x-python",
   "name": "python",
   "nbconvert_exporter": "python",
   "pygments_lexer": "ipython3",
   "version": "3.13.0"
  }
 },
 "nbformat": 4,
 "nbformat_minor": 5
}
