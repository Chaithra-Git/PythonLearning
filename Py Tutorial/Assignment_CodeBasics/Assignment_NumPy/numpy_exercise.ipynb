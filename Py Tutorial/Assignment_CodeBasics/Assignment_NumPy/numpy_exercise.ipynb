{
 "cells": [
  {
   "cell_type": "markdown",
   "id": "399f4ab1",
   "metadata": {},
   "source": [
    "<h3 align=\"center\" style=\"color:blue\">Codebasics Python Course: Numpy Exercise</h3>"
   ]
  },
  {
   "cell_type": "markdown",
   "id": "99f1a070",
   "metadata": {},
   "source": [
    "At **AtliQ**, a software service company, the **HR team** wants to understand how happy employees are with company policies and how long they've been with the company. This survey aims to help HR improve the work environment and keep employees satisfied.\n",
    "\n",
    "**Data Structure:** Two numpy arrays capture survey results and employee details:\n",
    "\n",
    "**Employee Details:** Contains Employee ID, Department, and Number of Years with AtliQ.\n",
    "\n",
    "**Survey Results:** Contains Employee ID and Happiness Score (scaled 1-10)."
   ]
  },
  {
   "cell_type": "code",
   "execution_count": 2,
   "id": "ec997f5a",
   "metadata": {},
   "outputs": [],
   "source": [
    "import numpy as np\n",
    "\n",
    "# Employee Details: Employee ID, Department, Number of Years with AtliQ\n",
    "employee_details = np.array([\n",
    "    [101, 'Sales', 3],  \n",
    "    [102, 'HR', 5],    \n",
    "    [103, 'IT', 2],        \n",
    "    [104, 'Sales', 8],    \n",
    "    [105, 'IT', 6],      \n",
    "    [106, 'HR', 4],           \n",
    "    [107, 'IT', 7],    \n",
    "    [108, 'Sales', 1], \n",
    "    [109, 'HR', 3]          \n",
    "])\n",
    "\n",
    "# Survey Results: Employee ID, Happiness Score (1-10)\n",
    "survey_results = np.array([\n",
    "    [101, 8],\n",
    "    [102, 10],\n",
    "    [103, 9],\n",
    "    [104, 6],\n",
    "    [105, 7],\n",
    "    [106, 8],\n",
    "    [107, 9],\n",
    "    [108, 5],\n",
    "    [109, 7]\n",
    "])\n"
   ]
  },
  {
   "cell_type": "markdown",
   "id": "d2a4d20d",
   "metadata": {},
   "source": [
    "### Task 1: Merge Arrays\n",
    "\n",
    "**Scenario:** To streamline analysis, combine the employee details with their survey results.\n",
    "\n",
    "**Action:** Use ```np.hstack``` to horizontally stack the two arrays."
   ]
  },
  {
   "cell_type": "code",
   "execution_count": 61,
   "id": "6f15bb12",
   "metadata": {},
   "outputs": [
    {
     "data": {
      "text/plain": [
       "array([['101', 'Sales', '3', '101', '8'],\n",
       "       ['102', 'HR', '5', '102', '10'],\n",
       "       ['103', 'IT', '2', '103', '9'],\n",
       "       ['104', 'Sales', '8', '104', '6'],\n",
       "       ['105', 'IT', '6', '105', '7'],\n",
       "       ['106', 'HR', '4', '106', '8'],\n",
       "       ['107', 'IT', '7', '107', '9'],\n",
       "       ['108', 'Sales', '1', '108', '5'],\n",
       "       ['109', 'HR', '3', '109', '7']], dtype='<U21')"
      ]
     },
     "execution_count": 61,
     "metadata": {},
     "output_type": "execute_result"
    }
   ],
   "source": [
    "# write code here\n",
    "employee_survey = np.hstack((employee_details,survey_results))\n",
    "employee_survey"
   ]
  },
  {
   "cell_type": "markdown",
   "id": "f6a93493",
   "metadata": {},
   "source": [
    "### Task 2: Print Scores\n",
    "\n",
    "**Scenario:** HR wants a quick view of all happiness scores to gauge overall employee sentiment.\n",
    "\n",
    "**Action:** Display all happiness scores from the merged array."
   ]
  },
  {
   "cell_type": "code",
   "execution_count": 42,
   "id": "6465fc6f",
   "metadata": {},
   "outputs": [
    {
     "name": "stdout",
     "output_type": "stream",
     "text": [
      "['10' '5' '6' '7' '7' '8' '8' '9' '9']\n"
     ]
    }
   ],
   "source": [
    "# write code here\n",
    "happiness_scores = employee_survey[ :, 4]\n",
    "print(happiness_scores)"
   ]
  },
  {
   "cell_type": "markdown",
   "id": "18313d6c",
   "metadata": {},
   "source": [
    "### Task 3: Sort Scores\n",
    "\n",
    "**Scenario:** HR needs to identify the range of happiness scores to plan specific interventions.\n",
    "\n",
    "**Action:** Sort and print the happiness scores in ascending order."
   ]
  },
  {
   "cell_type": "code",
   "execution_count": 43,
   "id": "388a42b8",
   "metadata": {
    "scrolled": true
   },
   "outputs": [
    {
     "name": "stdout",
     "output_type": "stream",
     "text": [
      "['10' '5' '6' '7' '7' '8' '8' '9' '9']\n"
     ]
    }
   ],
   "source": [
    "# write code here\n",
    "happiness_scores = np.sort(happiness_scores)\n",
    "print(happiness_scores)"
   ]
  },
  {
   "cell_type": "markdown",
   "id": "f8167f59",
   "metadata": {},
   "source": [
    "### Task 4: Employee Details\n",
    "\n",
    "**Scenario:** For a meeting, HR needs a list of employees' IDs and departments without other details.\n",
    "\n",
    "**Action:** Iterate through the array and print each employee's ID and department."
   ]
  },
  {
   "cell_type": "code",
   "execution_count": null,
   "id": "504c7fba",
   "metadata": {},
   "outputs": [
    {
     "name": "stdout",
     "output_type": "stream",
     "text": [
      "ID: 101, Department: Sales \n",
      "ID: 102, Department: HR \n",
      "ID: 103, Department: IT \n",
      "ID: 104, Department: Sales \n",
      "ID: 105, Department: IT \n",
      "ID: 106, Department: HR \n",
      "ID: 107, Department: IT \n",
      "ID: 108, Department: Sales \n",
      "ID: 109, Department: HR \n"
     ]
    }
   ],
   "source": [
    "# write code here\n",
    "for row in employee_survey:\n",
    "    print(f\"ID: {row[0]}, Department: {row[1]} \")"
   ]
  },
  {
   "cell_type": "markdown",
   "id": "586b7e31",
   "metadata": {},
   "source": [
    "### Task 5: Happiness Scores\n",
    "\n",
    "**Scenario:** HR wants to review individual happiness scores to follow up with specific departments or employees.\n",
    "\n",
    "**Action:** Print the happiness score alongside each employee ID from the merged array."
   ]
  },
  {
   "cell_type": "code",
   "execution_count": 46,
   "id": "1584d882",
   "metadata": {},
   "outputs": [
    {
     "name": "stdout",
     "output_type": "stream",
     "text": [
      "ID: 101, Happiness Score: 10 \n",
      "ID: 102, Happiness Score: 5 \n",
      "ID: 103, Happiness Score: 6 \n",
      "ID: 104, Happiness Score: 7 \n",
      "ID: 105, Happiness Score: 7 \n",
      "ID: 106, Happiness Score: 8 \n",
      "ID: 107, Happiness Score: 8 \n",
      "ID: 108, Happiness Score: 9 \n",
      "ID: 109, Happiness Score: 9 \n"
     ]
    }
   ],
   "source": [
    "# write code here\n",
    "for row in employee_survey:\n",
    "    print(f\"ID: {row[0]}, Happiness Score: {row[4]} \")"
   ]
  },
  {
   "cell_type": "markdown",
   "id": "3d9a92ef",
   "metadata": {},
   "source": [
    "### Task 6: Convert Scores\n",
    "\n",
    "**Scenario:** For statistical analysis, the HR team needs the happiness scores in a consistent format.\n",
    "\n",
    "**Action:** Convert the happiness scores to float type using ```astype(float)```."
   ]
  },
  {
   "cell_type": "code",
   "execution_count": 30,
   "id": "050ee1ae",
   "metadata": {},
   "outputs": [
    {
     "data": {
      "text/plain": [
       "array([ 5.,  6.,  7.,  7.,  8.,  8.,  9.,  9., 10.])"
      ]
     },
     "execution_count": 30,
     "metadata": {},
     "output_type": "execute_result"
    }
   ],
   "source": [
    "# write code here\n",
    "happiness_scores = happiness_scores.astype(float)\n",
    "happiness_scores"
   ]
  },
  {
   "cell_type": "markdown",
   "id": "d16afb33",
   "metadata": {},
   "source": [
    "### Task 7: Average Score\n",
    "\n",
    "**Scenario:** To measure the effectiveness of current policies, HR needs the average happiness score.\n",
    "\n",
    "**Action:** Calculate and print the average happiness score of all employees."
   ]
  },
  {
   "cell_type": "code",
   "execution_count": 48,
   "id": "94086c24",
   "metadata": {},
   "outputs": [
    {
     "name": "stdout",
     "output_type": "stream",
     "text": [
      "7.666666666666667\n"
     ]
    }
   ],
   "source": [
    "# write code here\n",
    "avg_happiness_score = np.mean(happiness_scores.astype(float))\n",
    "print(avg_happiness_score)"
   ]
  },
  {
   "cell_type": "markdown",
   "id": "86902984",
   "metadata": {},
   "source": [
    "### Task 8: Unique Departments\n",
    "\n",
    "**Scenario:** HR is reviewing which departments are represented in the survey to ensure all are included in future plans.\n",
    "\n",
    "**Action:** Use ```np.unique``` to find and print all unique departments from the employee details."
   ]
  },
  {
   "cell_type": "code",
   "execution_count": 33,
   "id": "b95ca0ef",
   "metadata": {},
   "outputs": [
    {
     "name": "stdout",
     "output_type": "stream",
     "text": [
      "['Sales' 'HR' 'IT' 'Sales' 'IT' 'HR' 'IT' 'Sales' 'HR']\n",
      "['HR' 'IT' 'Sales']\n"
     ]
    }
   ],
   "source": [
    "# first print departments from all the records\n",
    "dept = employee_details[: , 1]\n",
    "print(dept)\n",
    "\n",
    "# write code here\n",
    "dept_unique = np.unique(dept)\n",
    "print(dept_unique)"
   ]
  },
  {
   "cell_type": "code",
   "execution_count": null,
   "id": "8b567172",
   "metadata": {},
   "outputs": [],
   "source": [
    "# now print unique departments\n",
    "\n",
    "\n",
    "# write code here"
   ]
  },
  {
   "cell_type": "markdown",
   "id": "5707cbae",
   "metadata": {},
   "source": [
    "### Task 9: HR Happiness\n",
    "\n",
    "**Scenario:** HR is conducting a self-assessment to understand how their own department perceives company policies.\n",
    "\n",
    "**Action:** Calculate and print the average happiness score within the HR department."
   ]
  },
  {
   "cell_type": "code",
   "execution_count": 62,
   "id": "2638deb2",
   "metadata": {},
   "outputs": [
    {
     "name": "stdout",
     "output_type": "stream",
     "text": [
      "[['101' 'Sales' '3' '101' '8']\n",
      " ['102' 'HR' '5' '102' '10']\n",
      " ['103' 'IT' '2' '103' '9']\n",
      " ['104' 'Sales' '8' '104' '6']\n",
      " ['105' 'IT' '6' '105' '7']\n",
      " ['106' 'HR' '4' '106' '8']\n",
      " ['107' 'IT' '7' '107' '9']\n",
      " ['108' 'Sales' '1' '108' '5']\n",
      " ['109' 'HR' '3' '109' '7']]\n"
     ]
    },
    {
     "data": {
      "text/plain": [
       "array([['102', 'HR', '5', '102', '10'],\n",
       "       ['106', 'HR', '4', '106', '8'],\n",
       "       ['109', 'HR', '3', '109', '7']], dtype='<U21')"
      ]
     },
     "execution_count": 62,
     "metadata": {},
     "output_type": "execute_result"
    }
   ],
   "source": [
    "# First print all the records in HR department\n",
    "print(employee_survey)\n",
    "# write code here\n",
    "hr_dept = employee_survey[employee_survey[:,1]==\"HR\"]\n",
    "hr_dept"
   ]
  },
  {
   "cell_type": "code",
   "execution_count": 63,
   "id": "39ea4122",
   "metadata": {},
   "outputs": [
    {
     "data": {
      "text/plain": [
       "array([10.,  8.,  7.])"
      ]
     },
     "execution_count": 63,
     "metadata": {},
     "output_type": "execute_result"
    }
   ],
   "source": [
    "# Now from these records only print  the happiness score column. Convert that to float using astype(float) function\n",
    "\n",
    "# write code here\n",
    "hr_dept = hr_dept[:,4].astype(float)\n",
    "hr_dept"
   ]
  },
  {
   "cell_type": "code",
   "execution_count": 64,
   "id": "5c836bbb",
   "metadata": {},
   "outputs": [
    {
     "name": "stdout",
     "output_type": "stream",
     "text": [
      "8.333333333333334\n"
     ]
    }
   ],
   "source": [
    "# Take an average of this column using np.mean() function\n",
    "\n",
    "# write code here\n",
    "mean_hr_dept = np.mean(hr_dept)\n",
    "print(mean_hr_dept)"
   ]
  },
  {
   "cell_type": "code",
   "execution_count": null,
   "id": "9ddbcc3d-ef97-48f0-a808-c4b690b0372a",
   "metadata": {},
   "outputs": [],
   "source": []
  }
 ],
 "metadata": {
  "kernelspec": {
   "display_name": "Python 3",
   "language": "python",
   "name": "python3"
  },
  "language_info": {
   "codemirror_mode": {
    "name": "ipython",
    "version": 3
   },
   "file_extension": ".py",
   "mimetype": "text/x-python",
   "name": "python",
   "nbconvert_exporter": "python",
   "pygments_lexer": "ipython3",
   "version": "3.13.0"
  }
 },
 "nbformat": 4,
 "nbformat_minor": 5
}
