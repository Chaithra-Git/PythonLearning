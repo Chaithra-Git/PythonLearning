{
 "cells": [
  {
   "cell_type": "markdown",
   "metadata": {},
   "source": [
    "<h2 align=\"center\" style=\"color:blue\">Codebasics Python Course: Exercise - Functions, Dict, Tuples, File Handling</h2>"
   ]
  },
  {
   "cell_type": "markdown",
   "metadata": {},
   "source": [
    "Imagine you run a loyalty program where customers earn rewards based on the total amount they have spent. The rewards levels are defined based on the total purchase amount. Based on this scenario, complete the following tasks"
   ]
  },
  {
   "cell_type": "markdown",
   "metadata": {},
   "source": [
    "### Task 1\n",
    "\n",
    "You are given a file called ```customers.txt``` that contains the name of the customer and total amount they spent. Read this file line by line and save the customer name and total amount in a dictionary.\n",
    "\n",
    "For example, customers.txt file will content the data in the following format,\n",
    "```\n",
    "Srinivas,120\n",
    "John,250\n",
    "Maria,150\n",
    "Smith,510\n",
    "Anjali,45\n",
    "```\n",
    "\n",
    "You will read this and build a dictionary like this,\n",
    "```\n",
    "{\n",
    "    \"Srinivas\": 120,\n",
    "    \"John\": 250,\n",
    "    \"Maria\": 150,\n",
    "    \"Smith\": 510,\n",
    "    \"Anjali\": 45\n",
    "}\n",
    "```"
   ]
  },
  {
   "cell_type": "code",
   "execution_count": 24,
   "metadata": {},
   "outputs": [
    {
     "name": "stdout",
     "output_type": "stream",
     "text": [
      "{'Srinivas': 120, 'john': 100, 'raju': 190, 'rohan': 130, 'Anjali': 100}\n"
     ]
    }
   ],
   "source": [
    "# write your code here\n",
    "customer_dict = {}\n",
    "with open(\"customers.txt\",\"r\")as f:\n",
    "    for line in f:\n",
    "        customer,amount = line.split(\",\")\n",
    "        amount = int(amount.strip())\n",
    "        customer_dict[customer] = amount\n",
    "print(customer_dict)\n",
    "\n"
   ]
  },
  {
   "cell_type": "markdown",
   "metadata": {},
   "source": [
    "### Task 2\n",
    "\n",
    "The rewards levels are defined below based on the total purchase amount. Using this define a function called calculate_rewards that takes total as input and returns the reward.\n",
    "\n",
    "```\n",
    "1. Bronze: Total purchases $100-$199\n",
    "1. Silver: Total purchases $200-$499\n",
    "1. Gold: Total purchases $500+\n",
    "```"
   ]
  },
  {
   "cell_type": "code",
   "execution_count": null,
   "metadata": {},
   "outputs": [
    {
     "data": {
      "text/plain": [
       "'Gold'"
      ]
     },
     "execution_count": 4,
     "metadata": {},
     "output_type": "execute_result"
    }
   ],
   "source": [
    "# write your code here\n",
    "def calculate_rewards(total):\n",
    "    if total >= 100 and total< 200:\n",
    "        return \"Bronze\"\n",
    "    elif total >= 200 and total < 500:\n",
    "        return \"Silver\"\n",
    "    elif total >= 500:\n",
    "        return \"Gold\"\n",
    "    else:\n",
    "        return None\n",
    "    \n",
    "amount = input(\"Enter the amount:\")\n",
    "calculate_rewards(int(amount))\n",
    "      \n",
    "    "
   ]
  },
  {
   "cell_type": "code",
   "execution_count": null,
   "metadata": {},
   "outputs": [],
   "source": []
  },
  {
   "cell_type": "markdown",
   "metadata": {},
   "source": [
    "### Task 3\n",
    "\n",
    "Now for each of the customers in our customers_dict, calculate the rewards and build a customers_summary dictionary that looks like the following, (key is the name of the customer and the value is a tuple containing total amount and rewards level)\n",
    "\n",
    "```\n",
    "{\n",
    "    'Srinivas': (120, 'Bronze'),\n",
    "    'John': (250, 'Silver'),\n",
    "    'Maria': (150, 'Bronze'),\n",
    "    'Smith': (510, 'Gold'),\n",
    "    'Anjali': (45, 'None')\n",
    "}\n",
    "```"
   ]
  },
  {
   "cell_type": "code",
   "execution_count": null,
   "metadata": {},
   "outputs": [
    {
     "name": "stdout",
     "output_type": "stream",
     "text": [
      "{'Srinivas': {120, 'Bronze'}, 'john': {100, 'Bronze'}, 'raju': {'Bronze', 190}, 'rohan': {130, 'Bronze'}, 'Anjali': {100, 'Bronze'}}\n"
     ]
    }
   ],
   "source": [
    "# write your code here\n",
    "customer_summary={} \n",
    "\n",
    "\n",
    "for customer,total_amount in customer_dict.items:\n",
    "   \n",
    "   # if (total_amount> 500):\n",
    "   #    customer_summary[customer] = {total_amount, \"Gold\"}\n",
    "   # elif(total_amount >= 200):\n",
    "   #    customer_summary[customer] = {total_amount, \"Silver\"}\n",
    "   # elif(total_amount >= 100):\n",
    "   customer_summary[customer] = {total_amount, calculate_rewards(total_amount)}\n",
    "print (customer_summary)"
   ]
  },
  {
   "cell_type": "markdown",
   "metadata": {},
   "source": [
    "### Task 4\n",
    "\n",
    "Now stitch all of the above code together and create a function that takes file name as input and returns the customer_summary dictionary.\n",
    "\n",
    "```\n",
    "def process_customer_data(file_name):\n",
    "    # return customer_summary dict\n",
    "```"
   ]
  },
  {
   "cell_type": "code",
   "execution_count": 47,
   "metadata": {},
   "outputs": [
    {
     "name": "stdout",
     "output_type": "stream",
     "text": [
      "{'Srinivas': {120, 'Bronze'}, 'john': {100, 'Bronze'}, 'raju': {'Silver', 230}, 'rohan': {'Gold', 500}, 'Anjali': {100, 'Bronze'}}\n"
     ]
    }
   ],
   "source": [
    "# write your code here\n",
    "\n",
    "def process_customer_data(file_name):    \n",
    " with open(file_name,\"r\")as f:\n",
    "    customer_summary_fn = {}\n",
    "    for line in f:\n",
    "        customer,amount = line.split(\",\")\n",
    "        amount = int(amount.strip())       \n",
    "        customer_summary_fn[customer] = {amount, calculate_rewards(amount)}\n",
    " return customer_summary_fn\n",
    "\n",
    "\n",
    "summary =  process_customer_data(\"customers.txt\")\n",
    "print(summary)\n",
    "\n"
   ]
  }
 ],
 "metadata": {
  "colab": {
   "collapsed_sections": [],
   "name": "1_Variables.ipynb",
   "provenance": []
  },
  "kernelspec": {
   "display_name": "Python 3",
   "language": "python",
   "name": "python3"
  },
  "language_info": {
   "codemirror_mode": {
    "name": "ipython",
    "version": 3
   },
   "file_extension": ".py",
   "mimetype": "text/x-python",
   "name": "python",
   "nbconvert_exporter": "python",
   "pygments_lexer": "ipython3",
   "version": "3.13.0"
  }
 },
 "nbformat": 4,
 "nbformat_minor": 1
}
