{
 "cells": [
  {
   "cell_type": "code",
   "execution_count": 67,
   "id": "f5271817-ea9b-4fea-9ccf-d9bb2ec45616",
   "metadata": {},
   "outputs": [],
   "source": [
    "with open(\"love.txt\" , \"w\") as f:\n",
    "  f.write(\"I love Pyhton\\n\")\n",
    "  f.write(\"I love walking\")\n",
    "  f.writelines(\"I love php\\n\" \"I love reading\")"
   ]
  },
  {
   "cell_type": "code",
   "execution_count": 1,
   "id": "3412fb06-fce6-49d2-9be6-dd669809105d",
   "metadata": {},
   "outputs": [
    {
     "name": "stdout",
     "output_type": "stream",
     "text": [
      "Object `strip` not found.\n"
     ]
    }
   ],
   "source": [
    "?strip"
   ]
  },
  {
   "cell_type": "code",
   "execution_count": 2,
   "id": "ae32ee91-b2f9-4e4c-97ec-9e7fd336d8e7",
   "metadata": {},
   "outputs": [
    {
     "ename": "NameError",
     "evalue": "name 'strip' is not defined",
     "output_type": "error",
     "traceback": [
      "\u001b[1;31m---------------------------------------------------------------------------\u001b[0m",
      "\u001b[1;31mNameError\u001b[0m                                 Traceback (most recent call last)",
      "Cell \u001b[1;32mIn[2], line 1\u001b[0m\n\u001b[1;32m----> 1\u001b[0m help(\u001b[43mstrip\u001b[49m)\n",
      "\u001b[1;31mNameError\u001b[0m: name 'strip' is not defined"
     ]
    }
   ],
   "source": [
    "help(strip)"
   ]
  },
  {
   "cell_type": "code",
   "execution_count": 3,
   "id": "c40ed4ca-7dcb-4727-9fa8-5155dd92d8da",
   "metadata": {},
   "outputs": [
    {
     "data": {
      "text/plain": [
       "['__add__',\n",
       " '__class__',\n",
       " '__contains__',\n",
       " '__delattr__',\n",
       " '__dir__',\n",
       " '__doc__',\n",
       " '__eq__',\n",
       " '__format__',\n",
       " '__ge__',\n",
       " '__getattribute__',\n",
       " '__getitem__',\n",
       " '__getnewargs__',\n",
       " '__getstate__',\n",
       " '__gt__',\n",
       " '__hash__',\n",
       " '__init__',\n",
       " '__init_subclass__',\n",
       " '__iter__',\n",
       " '__le__',\n",
       " '__len__',\n",
       " '__lt__',\n",
       " '__mod__',\n",
       " '__mul__',\n",
       " '__ne__',\n",
       " '__new__',\n",
       " '__reduce__',\n",
       " '__reduce_ex__',\n",
       " '__repr__',\n",
       " '__rmod__',\n",
       " '__rmul__',\n",
       " '__setattr__',\n",
       " '__sizeof__',\n",
       " '__str__',\n",
       " '__subclasshook__',\n",
       " 'capitalize',\n",
       " 'casefold',\n",
       " 'center',\n",
       " 'count',\n",
       " 'encode',\n",
       " 'endswith',\n",
       " 'expandtabs',\n",
       " 'find',\n",
       " 'format',\n",
       " 'format_map',\n",
       " 'index',\n",
       " 'isalnum',\n",
       " 'isalpha',\n",
       " 'isascii',\n",
       " 'isdecimal',\n",
       " 'isdigit',\n",
       " 'isidentifier',\n",
       " 'islower',\n",
       " 'isnumeric',\n",
       " 'isprintable',\n",
       " 'isspace',\n",
       " 'istitle',\n",
       " 'isupper',\n",
       " 'join',\n",
       " 'ljust',\n",
       " 'lower',\n",
       " 'lstrip',\n",
       " 'maketrans',\n",
       " 'partition',\n",
       " 'removeprefix',\n",
       " 'removesuffix',\n",
       " 'replace',\n",
       " 'rfind',\n",
       " 'rindex',\n",
       " 'rjust',\n",
       " 'rpartition',\n",
       " 'rsplit',\n",
       " 'rstrip',\n",
       " 'split',\n",
       " 'splitlines',\n",
       " 'startswith',\n",
       " 'strip',\n",
       " 'swapcase',\n",
       " 'title',\n",
       " 'translate',\n",
       " 'upper',\n",
       " 'zfill']"
      ]
     },
     "execution_count": 3,
     "metadata": {},
     "output_type": "execute_result"
    }
   ],
   "source": [
    "dir(str)\n"
   ]
  },
  {
   "cell_type": "code",
   "execution_count": 5,
   "id": "7f61decc-b86c-4b6e-84de-126f31d0c4e9",
   "metadata": {},
   "outputs": [
    {
     "ename": "SyntaxError",
     "evalue": "expected ':' (694935800.py, line 1)",
     "output_type": "error",
     "traceback": [
      "\u001b[1;36m  Cell \u001b[1;32mIn[5], line 1\u001b[1;36m\u001b[0m\n\u001b[1;33m    with open(\"scores.csv\",r) as f\u001b[0m\n\u001b[1;37m                                  ^\u001b[0m\n\u001b[1;31mSyntaxError\u001b[0m\u001b[1;31m:\u001b[0m expected ':'\n"
     ]
    }
   ],
   "source": [
    "with open(\"scores.csv\",r) as f\n",
    "for line in f:\n",
    "print(line)"
   ]
  },
  {
   "cell_type": "code",
   "execution_count": 63,
   "id": "3d23792f-150c-4e21-8099-04f6ea2110a7",
   "metadata": {},
   "outputs": [
    {
     "name": "stdout",
     "output_type": "stream",
     "text": [
      "{'rohit': [9, 50], 'shekar': [39, 30], 'rahul': [23, 20], 'kapil': [30, 19]}\n",
      "rohit-> Min: 9, Max: 50, Avg: 29.5\n",
      "shekar-> Min: 30, Max: 39, Avg: 34.5\n",
      "rahul-> Min: 20, Max: 23, Avg: 21.5\n",
      "kapil-> Min: 19, Max: 30, Avg: 24.5\n"
     ]
    }
   ],
   "source": [
    "d={}\n",
    "with open(\"scores.csv\",\"r\") as f:\n",
    " for line in f:\n",
    "   player,_,score = line.split(\",\")\n",
    "   # print(player,score)\n",
    "   score = int(score.strip())\n",
    "   if player in d:       \n",
    "      d[player].append(score)\n",
    "   else:\n",
    "       d[player] = [score]\n",
    "print(d)\n",
    "for player_name,score_list in d.items():\n",
    "    minim= min(score_list)\n",
    "    maxim = max(score_list)\n",
    "    avg = sum(score_list)/len(score_list)\n",
    "    print(f\"{player_name}-> Min: {minim}, Max: {maxim}, Avg: {avg}\")\n",
    "    \n",
    "      \n",
    "   \n",
    "     \n",
    "\n",
    "\n",
    "     "
   ]
  },
  {
   "cell_type": "code",
   "execution_count": null,
   "id": "a257097c-379d-4619-adc7-239aa8fc94df",
   "metadata": {},
   "outputs": [],
   "source": []
  },
  {
   "cell_type": "code",
   "execution_count": null,
   "id": "f678606a-9254-49d2-a628-10ca710bc827",
   "metadata": {},
   "outputs": [],
   "source": []
  },
  {
   "cell_type": "code",
   "execution_count": null,
   "id": "80772cf2-a998-42d8-9a95-43fc7cc86a32",
   "metadata": {},
   "outputs": [],
   "source": []
  },
  {
   "cell_type": "code",
   "execution_count": null,
   "id": "006a8984-79bc-4af6-9c16-9e57f0be5d13",
   "metadata": {},
   "outputs": [],
   "source": []
  }
 ],
 "metadata": {
  "kernelspec": {
   "display_name": "Python 3 (ipykernel)",
   "language": "python",
   "name": "python3"
  },
  "language_info": {
   "codemirror_mode": {
    "name": "ipython",
    "version": 3
   },
   "file_extension": ".py",
   "mimetype": "text/x-python",
   "name": "python",
   "nbconvert_exporter": "python",
   "pygments_lexer": "ipython3",
   "version": "3.13.0"
  }
 },
 "nbformat": 4,
 "nbformat_minor": 5
}
