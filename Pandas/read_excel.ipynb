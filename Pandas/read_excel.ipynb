{
 "cells": [
  {
   "cell_type": "code",
   "execution_count": 3,
   "id": "1a5e3594-1ef2-470a-be2a-4ec8514b434a",
   "metadata": {},
   "outputs": [
    {
     "data": {
      "text/html": [
       "<div>\n",
       "<style scoped>\n",
       "    .dataframe tbody tr th:only-of-type {\n",
       "        vertical-align: middle;\n",
       "    }\n",
       "\n",
       "    .dataframe tbody tr th {\n",
       "        vertical-align: top;\n",
       "    }\n",
       "\n",
       "    .dataframe thead th {\n",
       "        text-align: right;\n",
       "    }\n",
       "</style>\n",
       "<table border=\"1\" class=\"dataframe\">\n",
       "  <thead>\n",
       "    <tr style=\"text-align: right;\">\n",
       "      <th></th>\n",
       "      <th>movie_id</th>\n",
       "      <th>title</th>\n",
       "      <th>industry</th>\n",
       "      <th>release_year</th>\n",
       "      <th>imdb_rating</th>\n",
       "      <th>studio</th>\n",
       "      <th>language_id</th>\n",
       "    </tr>\n",
       "  </thead>\n",
       "  <tbody>\n",
       "    <tr>\n",
       "      <th>0</th>\n",
       "      <td>101</td>\n",
       "      <td>K.G.F: Chapter 2</td>\n",
       "      <td>Bollywood</td>\n",
       "      <td>2022</td>\n",
       "      <td>8.4</td>\n",
       "      <td>Hombale Films</td>\n",
       "      <td>3</td>\n",
       "    </tr>\n",
       "    <tr>\n",
       "      <th>1</th>\n",
       "      <td>102</td>\n",
       "      <td>Doctor Strange in the Multiverse of Madness</td>\n",
       "      <td>Hollywood</td>\n",
       "      <td>2022</td>\n",
       "      <td>7.0</td>\n",
       "      <td>Marvel Studios</td>\n",
       "      <td>5</td>\n",
       "    </tr>\n",
       "    <tr>\n",
       "      <th>2</th>\n",
       "      <td>103</td>\n",
       "      <td>Thor: The Dark World</td>\n",
       "      <td>Hollywood</td>\n",
       "      <td>2013</td>\n",
       "      <td>6.8</td>\n",
       "      <td>Marvel Studios</td>\n",
       "      <td>5</td>\n",
       "    </tr>\n",
       "    <tr>\n",
       "      <th>3</th>\n",
       "      <td>104</td>\n",
       "      <td>Thor: Ragnarok</td>\n",
       "      <td>Hollywood</td>\n",
       "      <td>2017</td>\n",
       "      <td>7.9</td>\n",
       "      <td>Marvel Studios</td>\n",
       "      <td>5</td>\n",
       "    </tr>\n",
       "  </tbody>\n",
       "</table>\n",
       "</div>"
      ],
      "text/plain": [
       "   movie_id                                        title   industry  \\\n",
       "0       101                             K.G.F: Chapter 2  Bollywood   \n",
       "1       102  Doctor Strange in the Multiverse of Madness  Hollywood   \n",
       "2       103                        Thor: The Dark World   Hollywood   \n",
       "3       104                              Thor: Ragnarok   Hollywood   \n",
       "\n",
       "   release_year  imdb_rating          studio  language_id  \n",
       "0          2022          8.4   Hombale Films            3  \n",
       "1          2022          7.0  Marvel Studios            5  \n",
       "2          2013          6.8  Marvel Studios            5  \n",
       "3          2017          7.9  Marvel Studios            5  "
      ]
     },
     "execution_count": 3,
     "metadata": {},
     "output_type": "execute_result"
    }
   ],
   "source": [
    "import pandas as pd\n",
    "df_movies = pd.read_excel(\"movies_db.xlsx\", \"movies\")\n",
    "df_movies.head(4)"
   ]
  },
  {
   "cell_type": "code",
   "execution_count": null,
   "id": "cad0ec64-b19c-4523-b3c9-ee9ac9b5055a",
   "metadata": {},
   "outputs": [],
   "source": []
  },
  {
   "cell_type": "code",
   "execution_count": null,
   "id": "cf14d36a-2bc1-4712-8744-8d656392604f",
   "metadata": {},
   "outputs": [],
   "source": []
  }
 ],
 "metadata": {
  "kernelspec": {
   "display_name": "Python 3 (ipykernel)",
   "language": "python",
   "name": "python3"
  },
  "language_info": {
   "codemirror_mode": {
    "name": "ipython",
    "version": 3
   },
   "file_extension": ".py",
   "mimetype": "text/x-python",
   "name": "python",
   "nbconvert_exporter": "python",
   "pygments_lexer": "ipython3",
   "version": "3.13.0"
  }
 },
 "nbformat": 4,
 "nbformat_minor": 5
}
